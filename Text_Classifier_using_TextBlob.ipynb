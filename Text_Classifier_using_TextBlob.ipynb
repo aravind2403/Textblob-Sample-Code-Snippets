{
  "nbformat": 4,
  "nbformat_minor": 0,
  "metadata": {
    "colab": {
      "name": "Text Classifier using TextBlob",
      "version": "0.3.2",
      "views": {},
      "default_view": {},
      "provenance": []
    },
    "kernelspec": {
      "name": "python3",
      "display_name": "Python 3"
    }
  },
  "cells": [
    {
      "metadata": {
        "id": "CG1bBDzd8hUf",
        "colab_type": "text"
      },
      "cell_type": "markdown",
      "source": [
        "Pros:\n",
        "Since, it is built on the shoulders of NLTK and Pattern, therefore making it simple for beginners by providing an intuitive interface to NLTK.\n",
        "It provides language translation and detection which is powered by Google Translate ( not provided with Spacy).\n",
        "\n",
        "\n",
        "Cons:\n",
        "It is little slower in the comparison to spacy but faster than NLTK. (Spacy > TextBlob > NLTK)\n",
        "It does not provide features like dependency parsing, word vectors etc. which is provided by spacy."
      ]
    },
    {
      "metadata": {
        "id": "Yz10cqRj6xKK",
        "colab_type": "code",
        "colab": {
          "autoexec": {
            "startup": false,
            "wait_interval": 0
          },
          "base_uri": "https://localhost:8080/",
          "height": 92
        },
        "outputId": "eae3956f-4fc3-481c-f7b7-a3ec0895b3b6",
        "executionInfo": {
          "status": "ok",
          "timestamp": 1528604373524,
          "user_tz": 420,
          "elapsed": 2663,
          "user": {
            "displayName": "Aravind Shanmugam",
            "photoUrl": "//lh6.googleusercontent.com/-_XjpUosSEHA/AAAAAAAAAAI/AAAAAAAABA0/uAWQVyYb8sg/s50-c-k-no/photo.jpg",
            "userId": "112465109968057340331"
          }
        }
      },
      "cell_type": "code",
      "source": [
        "!pip install textblob"
      ],
      "execution_count": 6,
      "outputs": [
        {
          "output_type": "stream",
          "text": [
            "Requirement already satisfied: textblob in /usr/local/lib/python3.6/dist-packages (0.15.1)\n",
            "Requirement already satisfied: nltk>=3.1 in /usr/local/lib/python3.6/dist-packages (from textblob) (3.2.5)\n",
            "Requirement already satisfied: six in /usr/local/lib/python3.6/dist-packages (from nltk>=3.1->textblob) (1.11.0)\n"
          ],
          "name": "stdout"
        }
      ]
    },
    {
      "metadata": {
        "id": "FQ_qISvR5WeT",
        "colab_type": "code",
        "colab": {
          "autoexec": {
            "startup": false,
            "wait_interval": 0
          }
        }
      },
      "cell_type": "code",
      "source": [
        "training = [\n",
        "('Tom Holland is a terrible spiderman.','pos'),\n",
        "('a terrible Javert (Russell Crowe) ruined Les Miserables for me...','pos'),\n",
        "('The Dark Knight Rises is the greatest superhero movie ever!','neg'),\n",
        "('Fantastic Four should have never been made.','pos'),\n",
        "('Wes Anderson is my favorite director!','neg'),\n",
        "('Captain America 2 is pretty awesome.','neg'),\n",
        "('Let\\s pretend \"Batman and Robin\" never happened..','pos'),\n",
        "]\n",
        "testing = [\n",
        "('Superman was never an interesting character.','pos'),\n",
        "('Fantastic Mr Fox is an awesome film!','neg'),\n",
        "('Dragonball Evolution is simply terrible!!','pos')\n",
        "]"
      ],
      "execution_count": 0,
      "outputs": []
    },
    {
      "metadata": {
        "id": "JyxmKMP66GJq",
        "colab_type": "code",
        "colab": {
          "autoexec": {
            "startup": false,
            "wait_interval": 0
          }
        }
      },
      "cell_type": "code",
      "source": [
        "from textblob import classifiers\n",
        "classifier = classifiers.NaiveBayesClassifier(training)"
      ],
      "execution_count": 0,
      "outputs": []
    },
    {
      "metadata": {
        "id": "jUCahcRH6NXa",
        "colab_type": "code",
        "colab": {
          "autoexec": {
            "startup": false,
            "wait_interval": 0
          }
        }
      },
      "cell_type": "code",
      "source": [
        "dt_classifier = classifiers.DecisionTreeClassifier(training)"
      ],
      "execution_count": 0,
      "outputs": []
    },
    {
      "metadata": {
        "id": "4JKqoxSi6S3B",
        "colab_type": "code",
        "colab": {
          "autoexec": {
            "startup": false,
            "wait_interval": 0
          },
          "base_uri": "https://localhost:8080/",
          "height": 108
        },
        "outputId": "8ff3517b-c8ec-4315-9b93-f8ad090375a9",
        "executionInfo": {
          "status": "ok",
          "timestamp": 1528604228024,
          "user_tz": 420,
          "elapsed": 342,
          "user": {
            "displayName": "Aravind Shanmugam",
            "photoUrl": "//lh6.googleusercontent.com/-_XjpUosSEHA/AAAAAAAAAAI/AAAAAAAABA0/uAWQVyYb8sg/s50-c-k-no/photo.jpg",
            "userId": "112465109968057340331"
          }
        }
      },
      "cell_type": "code",
      "source": [
        "print (classifier.accuracy(testing))\n",
        "classifier.show_informative_features(3)"
      ],
      "execution_count": 4,
      "outputs": [
        {
          "output_type": "stream",
          "text": [
            "1.0\n",
            "Most Informative Features\n",
            "            contains(is) = True              neg : pos    =      2.9 : 1.0\n",
            "             contains(a) = False             neg : pos    =      1.8 : 1.0\n",
            "         contains(never) = False             neg : pos    =      1.8 : 1.0\n"
          ],
          "name": "stdout"
        }
      ]
    },
    {
      "metadata": {
        "id": "BjQUk2X069MH",
        "colab_type": "code",
        "colab": {
          "autoexec": {
            "startup": false,
            "wait_interval": 0
          }
        }
      },
      "cell_type": "code",
      "source": [
        "from textblob import TextBlob"
      ],
      "execution_count": 0,
      "outputs": []
    },
    {
      "metadata": {
        "id": "iszdizsp6Xfm",
        "colab_type": "code",
        "colab": {
          "autoexec": {
            "startup": false,
            "wait_interval": 0
          },
          "base_uri": "https://localhost:8080/",
          "height": 35
        },
        "outputId": "612d1020-cad5-41bb-b2f6-fc61f1e49f57",
        "executionInfo": {
          "status": "ok",
          "timestamp": 1528604391986,
          "user_tz": 420,
          "elapsed": 304,
          "user": {
            "displayName": "Aravind Shanmugam",
            "photoUrl": "//lh6.googleusercontent.com/-_XjpUosSEHA/AAAAAAAAAAI/AAAAAAAABA0/uAWQVyYb8sg/s50-c-k-no/photo.jpg",
            "userId": "112465109968057340331"
          }
        }
      },
      "cell_type": "code",
      "source": [
        "blob = TextBlob('the weather is terrible!', classifier=classifier)\n",
        "print (blob.classify())"
      ],
      "execution_count": 9,
      "outputs": [
        {
          "output_type": "stream",
          "text": [
            "neg\n"
          ],
          "name": "stdout"
        }
      ]
    },
    {
      "metadata": {
        "id": "GKpioKCx6uNg",
        "colab_type": "code",
        "colab": {
          "autoexec": {
            "startup": false,
            "wait_interval": 0
          }
        }
      },
      "cell_type": "code",
      "source": [
        ""
      ],
      "execution_count": 0,
      "outputs": []
    }
  ]
}